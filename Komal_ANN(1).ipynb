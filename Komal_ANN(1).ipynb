{
 "cells": [
  {
   "cell_type": "code",
   "execution_count": 175,
   "metadata": {},
   "outputs": [],
   "source": [
    "import numpy as np\n",
    "import pandas as pd\n",
    "from sklearn.model_selection import train_test_split"
   ]
  },
  {
   "cell_type": "code",
   "execution_count": 152,
   "metadata": {},
   "outputs": [],
   "source": [
    "data= pd.read_csv(\"C:/Users/Lenovo/Downloads/data1.csv\", header=None)"
   ]
  },
  {
   "cell_type": "code",
   "execution_count": 153,
   "metadata": {},
   "outputs": [
    {
     "name": "stdout",
     "output_type": "stream",
     "text": [
      "(20000, 20)\n"
     ]
    }
   ],
   "source": [
    "npdata=np.asarray(data)\n",
    "print(npdata.shape)"
   ]
  },
  {
   "cell_type": "code",
   "execution_count": 154,
   "metadata": {},
   "outputs": [
    {
     "name": "stdout",
     "output_type": "stream",
     "text": [
      "2\n",
      "(20000, 20)\n",
      "400000\n"
     ]
    }
   ],
   "source": [
    "print(npdata.ndim)\n",
    "print(npdata.shape)\n",
    "print(npdata.size)"
   ]
  },
  {
   "cell_type": "code",
   "execution_count": 155,
   "metadata": {},
   "outputs": [],
   "source": [
    "label= pd.read_csv(\"C:/Users/Lenovo/Downloads/label1.csv\", header=None)"
   ]
  },
  {
   "cell_type": "code",
   "execution_count": 156,
   "metadata": {},
   "outputs": [
    {
     "name": "stdout",
     "output_type": "stream",
     "text": [
      "size 20000\n",
      "ndim 2\n",
      "shape (20000, 1)\n"
     ]
    }
   ],
   "source": [
    "nplabel=np.asarray(label)\n",
    "print('size', nplabel.size)\n",
    "print('ndim', nplabel.ndim)\n",
    "print('shape', nplabel.shape)"
   ]
  },
  {
   "cell_type": "code",
   "execution_count": 157,
   "metadata": {},
   "outputs": [
    {
     "name": "stdout",
     "output_type": "stream",
     "text": [
      "[[3]\n",
      " [2]\n",
      " [2]\n",
      " ...\n",
      " [2]\n",
      " [2]\n",
      " [0]]\n"
     ]
    }
   ],
   "source": [
    "print(nplabel)"
   ]
  },
  {
   "cell_type": "code",
   "execution_count": 158,
   "metadata": {},
   "outputs": [
    {
     "name": "stderr",
     "output_type": "stream",
     "text": [
      "c:\\users\\lenovo\\appdata\\local\\programs\\python\\python36\\lib\\site-packages\\sklearn\\preprocessing\\label.py:111: DataConversionWarning: A column-vector y was passed when a 1d array was expected. Please change the shape of y to (n_samples, ), for example using ravel().\n",
      "  y = column_or_1d(y, warn=True)\n"
     ]
    }
   ],
   "source": [
    "from sklearn.preprocessing import LabelEncoder\n",
    "from sklearn.preprocessing import OneHotEncoder\n",
    "label_encoder = LabelEncoder()\n",
    "integer_encoded = label_encoder.fit_transform(nplabel)"
   ]
  },
  {
   "cell_type": "code",
   "execution_count": 159,
   "metadata": {},
   "outputs": [
    {
     "name": "stdout",
     "output_type": "stream",
     "text": [
      "[4]\n"
     ]
    }
   ],
   "source": [
    "maxValue=max(nplabel)\n",
    "print(maxValue)"
   ]
  },
  {
   "cell_type": "code",
   "execution_count": 160,
   "metadata": {},
   "outputs": [
    {
     "name": "stdout",
     "output_type": "stream",
     "text": [
      "(20000, 5)\n"
     ]
    }
   ],
   "source": [
    "onehot_encoder = OneHotEncoder(sparse=False)\n",
    "onehot_encoded = onehot_encoder.fit_transform(nplabel)\n",
    "print(onehot_encoded.shape)"
   ]
  },
  {
   "cell_type": "code",
   "execution_count": 161,
   "metadata": {},
   "outputs": [],
   "source": [
    "from sklearn.model_selection import train_test_split\n",
    "trainData, testDataDash=train_test_split(npdata,train_size=0.8, test_size=0.2, shuffle= False)\n",
    "trainlabelData, testLabelDash=train_test_split(onehot_encoded,train_size=0.8, test_size=0.2, shuffle= False)"
   ]
  },
  {
   "cell_type": "code",
   "execution_count": 162,
   "metadata": {},
   "outputs": [
    {
     "name": "stdout",
     "output_type": "stream",
     "text": [
      "[[0. 0. 0. 0. 1.]\n",
      " [0. 1. 0. 0. 0.]\n",
      " [0. 0. 1. 0. 0.]\n",
      " ...\n",
      " [0. 0. 1. 0. 0.]\n",
      " [0. 0. 1. 0. 0.]\n",
      " [1. 0. 0. 0. 0.]]\n"
     ]
    }
   ],
   "source": [
    "print(testLabelDash)"
   ]
  },
  {
   "cell_type": "code",
   "execution_count": 163,
   "metadata": {},
   "outputs": [
    {
     "name": "stdout",
     "output_type": "stream",
     "text": [
      "(4000, 20)\n",
      "(16000, 20)\n",
      "(16000, 5)\n"
     ]
    }
   ],
   "source": [
    "print(testDataDash.shape)\n",
    "print(trainData.shape)\n",
    "print(trainlabelData.shape)"
   ]
  },
  {
   "cell_type": "code",
   "execution_count": 164,
   "metadata": {},
   "outputs": [
    {
     "name": "stdout",
     "output_type": "stream",
     "text": [
      "(16000, 20)\n"
     ]
    }
   ],
   "source": [
    "print(trainData.shape)"
   ]
  },
  {
   "cell_type": "code",
   "execution_count": 165,
   "metadata": {},
   "outputs": [
    {
     "name": "stdout",
     "output_type": "stream",
     "text": [
      "(2000, 20)\n"
     ]
    }
   ],
   "source": [
    "validateData, testData=train_test_split(testDataDash,train_size=0.5, test_size=0.5, shuffle= False)\n",
    "validateLabel, testLabel=train_test_split(testLabelDash,train_size=0.5, test_size=0.5, shuffle= False)\n",
    "print(validateData.shape)"
   ]
  },
  {
   "cell_type": "code",
   "execution_count": 166,
   "metadata": {},
   "outputs": [],
   "source": [
    "def act(func, val):\n",
    "    if func== 1:\n",
    "        return val * (val>0)\n",
    "    elif func==3:\n",
    "        return np.tanh(val)\n",
    "    elif func==2:\n",
    "        e_x = np.exp(val)\n",
    "        return e_x / np.sum(e_x,axis=0, keepdims=True)\n",
    "        \n"
   ]
  },
  {
   "cell_type": "code",
   "execution_count": 167,
   "metadata": {},
   "outputs": [
    {
     "name": "stdout",
     "output_type": "stream",
     "text": [
      "10\n",
      "(5,)\n"
     ]
    }
   ],
   "source": [
    "h=int(input())\n",
    "b1 = np.zeros(h)\n",
    "b2 = np.zeros(5)\n",
    "print(b2.shape)"
   ]
  },
  {
   "cell_type": "code",
   "execution_count": 168,
   "metadata": {},
   "outputs": [],
   "source": [
    "std1 = (1/np.sqrt(20))\n",
    "std2= (1/np.sqrt(h))\n",
    "w1= np.random.normal(0, std1, (20,h))\n",
    "w2= np.random.normal(0, std2, (h,5))\n"
   ]
  },
  {
   "cell_type": "code",
   "execution_count": 169,
   "metadata": {},
   "outputs": [],
   "source": [
    "def frwdpass(data):\n",
    "    a0=data\n",
    "    z1=np.dot(a0,w1)+b1\n",
    "    a1=act(3, z1)\n",
    "    z2=np.dot(a1,w2)+b2\n",
    "    a2=act(2, z2)\n",
    "    return a0,a1,a2,z1,z2"
   ]
  },
  {
   "cell_type": "code",
   "execution_count": 170,
   "metadata": {},
   "outputs": [],
   "source": [
    "alpha=0.0001"
   ]
  },
  {
   "cell_type": "code",
   "execution_count": 171,
   "metadata": {},
   "outputs": [],
   "source": [
    "epochs=10"
   ]
  },
  {
   "cell_type": "code",
   "execution_count": 172,
   "metadata": {},
   "outputs": [],
   "source": [
    "def costfunc(y,t):\n",
    "    return -(t*(np.log(y))+(1-t)*np.log(1-y))"
   ]
  },
  {
   "cell_type": "code",
   "execution_count": 173,
   "metadata": {},
   "outputs": [],
   "source": [
    "def accuracyfunc(output, labeldata, datasize):\n",
    "    maxInRow=np.argmax(output, axis=1)\n",
    "    maxInLabels= np.argmax(labeldata, axis=1)\n",
    "    huehue=np.equal(maxInRow,maxInLabels)\n",
    "    count=np.sum(huehue)\n",
    "    return (count/datasize)*100"
   ]
  },
  {
   "cell_type": "code",
   "execution_count": 174,
   "metadata": {},
   "outputs": [
    {
     "name": "stdout",
     "output_type": "stream",
     "text": [
      "9.454488902898078\n",
      "41.78125\n",
      "9.250402239155056\n",
      "59.11875\n",
      "9.190561725443462\n",
      "65.60000000000001\n",
      "9.215792109273501\n",
      "68.3125\n",
      "9.298237538900393\n",
      "70.19375\n",
      "9.417654094203368\n",
      "71.4375\n",
      "9.553813567827826\n",
      "72.24374999999999\n",
      "9.705336081600489\n",
      "72.96875\n",
      "9.885844628282586\n",
      "73.19375000000001\n",
      "10.092799072997519\n",
      "73.49375\n"
     ]
    }
   ],
   "source": [
    "for j in range(epochs):\n",
    "    for i in range (16):\n",
    "        a0,a1,a2,z1,z2=frwdpass(trainData[(i*1000):(i+1)*1000,:])\n",
    "        labelBatch=trainlabelData[(i*1000):(i+1)*1000,:]\n",
    "        y=a2\n",
    "        Del2=(a2-labelBatch)\n",
    "        Del1=np.dot( Del2,w2.T)* (1-a1*a1)\n",
    "        dcdw1=np.dot(a0.T, Del1)\n",
    "        dcdw2=np.dot(a1.T, Del2)\n",
    "        dcdb1=np.sum(Del1, axis=0)\n",
    "        dcdb2=np.sum(Del2, axis=0)\n",
    "        #updation of weights\n",
    "        w1=w1-alpha*(dcdw1)\n",
    "        w2=w2-alpha*(dcdw2)\n",
    "        b1=b1-alpha*(dcdb1)\n",
    "        b2=b2-alpha*(dcdb2)\n",
    "    a0,a1,a2,z1,z2=frwdpass(trainData)\n",
    "    ytrue=a2\n",
    "    cost=np.sum(costfunc(ytrue, trainlabelData))/16000\n",
    "    print(cost)\n",
    "    accuracy=accuracyfunc(ytrue, trainlabelData, 16000)\n",
    "    print(accuracy)"
   ]
  }
 ],
 "metadata": {
  "kernelspec": {
   "display_name": "Python 3",
   "language": "python",
   "name": "python3"
  },
  "language_info": {
   "codemirror_mode": {
    "name": "ipython",
    "version": 3
   },
   "file_extension": ".py",
   "mimetype": "text/x-python",
   "name": "python",
   "nbconvert_exporter": "python",
   "pygments_lexer": "ipython3",
   "version": "3.6.4"
  }
 },
 "nbformat": 4,
 "nbformat_minor": 2
}
